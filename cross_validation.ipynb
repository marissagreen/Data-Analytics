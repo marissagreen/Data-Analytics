{
 "cells": [
  {
   "cell_type": "markdown",
   "metadata": {},
   "source": [
    "## C S 329E HW 5\n",
    "\n",
    "# Crossvalidation and hyperparameter selection\n",
    "\n",
    "## Your name here: Marissa Green\n",
    "## Pair Programming Group Number: 22\n",
    "\n",
    "For this week's homework we are going to explore the cross validation testing methodology and applying that to get error estimates on the two algorithms we've used so far:\n",
    "  - Linear Regression\n",
    "  - Decision Tree classification\n",
    "  "
   ]
  },
  {
   "cell_type": "code",
   "execution_count": 18,
   "metadata": {},
   "outputs": [],
   "source": [
    "# import the libraries! If you want to add things here for visualization, please do, \n",
    "# but only use sklearn when prompted\n",
    "import pandas as pd\n",
    "import numpy as np\n",
    "from sklearn import tree \n",
    "from sklearn.datasets import load_iris\n",
    "from sklearn.datasets import load_diabetes"
   ]
  },
  {
   "cell_type": "markdown",
   "metadata": {},
   "source": [
    "# Part 1 - Calculate Generalized Error on Linear Regression with k-fold Cross Validation"
   ]
  },
  {
   "cell_type": "markdown",
   "metadata": {},
   "source": [
    "## Q1.1 Load in the diabetes data set as a pandas dataframe and series.  \n",
    "Documentation on the data set is [here](https://scikit-learn.org/stable/modules/generated/sklearn.datasets.load_diabetes.html).  Name your features dataframe (the independent variables) `df_X` and your target value (the dependent variable) series `s_y`"
   ]
  },
  {
   "cell_type": "code",
   "execution_count": 29,
   "metadata": {},
   "outputs": [],
   "source": [
    "df_X, s_y = load_diabetes(return_X_y = True, as_frame = True)\n",
    "\n",
    "# for linear regression\n",
    "intercept = pd.DataFrame({\"intercept\":np.ones(len(df_X))})\n",
    "df_X = pd.concat([intercept, df_X], axis = 1)"
   ]
  },
  {
   "cell_type": "markdown",
   "metadata": {},
   "source": [
    "## Q1.2 Define a function that creates a linear least squares regression model \n",
    "This function should take in two parameters, `df_X`, and `s_y` and return the least squares regression model, $\\hat{\\beta}$ (using the notation from the ESLII book chapter 3 and HW3).  You can not use any libraries outside of pandas and numpy. Note that the length of beta_hat should be the number of columns in `df_X` + 1. "
   ]
  },
  {
   "cell_type": "code",
   "execution_count": 32,
   "metadata": {},
   "outputs": [],
   "source": [
    "def get_linear_regression_model( df_X, s_y ):\n",
    "    # your code here   \n",
    "    # find beta hat per the formula (3.6) (you should use the library we used in class)\n",
    "    [beta_hat, residuals, rank, s] = np.linalg.lstsq(df_X, s_y, rcond=-1)\n",
    "    \n",
    "    return beta_hat.reshape(len(df_X.columns), 1)"
   ]
  },
  {
   "cell_type": "code",
   "execution_count": 33,
   "metadata": {},
   "outputs": [
    {
     "data": {
      "text/plain": [
       "array([[ 152.13348416],\n",
       "       [ -10.01219782],\n",
       "       [-239.81908937],\n",
       "       [ 519.83978679],\n",
       "       [ 324.39042769],\n",
       "       [-792.18416163],\n",
       "       [ 476.74583782],\n",
       "       [ 101.04457032],\n",
       "       [ 177.06417623],\n",
       "       [ 751.27932109],\n",
       "       [  67.62538639]])"
      ]
     },
     "execution_count": 33,
     "metadata": {},
     "output_type": "execute_result"
    }
   ],
   "source": [
    "# code to check beta_hat\n",
    "np.random.seed(23)\n",
    "beta_hat = get_linear_regression_model(df_X, s_y)\n",
    "beta_hat"
   ]
  },
  {
   "cell_type": "markdown",
   "metadata": {},
   "source": [
    "## Q1.3 Define a function that partitions the dataframe and series data into dictionaries\n",
    "This function should take in three parameters, `df_X`, `s_y`, and `k`, and returns a tuple of two dictionaries.\n",
    "In both dictionaries the key is the `k` value (an integer from one to `k` inclusive).\n",
    "The first dictionary will have the dataframe of the training data that contains approximately $\\frac{1}{k}$ of the data (variation due to randomness is acceptable).\n",
    "The second dictionary will have the series of the target data that contains approximately $\\frac{1}{k}$ of the data (variation due to randomness is acceptable). Please note the targets _must match_ the same rows as the dataframe at this index, e.g, the length of the kth partition is the same for the dataframe and series.\n",
    "\n",
    "Call that function with $k=5$ and create the dictionaries `dict_k_df_X` and `dict_k_s_y`. Print out the number of rows in each fold.  Check that the number of data points in each partition totals the number of data points in the entire dataset. \n",
    "\n",
    "Here is some example output from checking the length of the folds:\n",
    "```\n",
    "Fold 1 length of dataframe is 88 and length of series is 88\n",
    "Fold 2 length of dataframe is 96 and length of series is 96\n",
    "Fold 3 length of dataframe is 88 and length of series is 88\n",
    "Fold 4 length of dataframe is 79 and length of series is 79\n",
    "Fold 5 length of dataframe is 91 and length of series is 91\n",
    "The sum of the number of elements in each fold is 442 and there are 442 rows in the original df\n",
    "```"
   ]
  },
  {
   "cell_type": "code",
   "execution_count": 34,
   "metadata": {},
   "outputs": [],
   "source": [
    "def partition_data( df_X, s_y, k ):\n",
    "    # your code here\n",
    "    \n",
    "    # add in random_ints to randomly partition data\n",
    "    random_ints = pd.DataFrame(np.random.randint(1, 6, len(df_X)))\n",
    "    df_X_with_random = pd.concat([random_ints, df_X], axis=1)\n",
    "    s_y_with_random = pd.concat([random_ints, s_y], axis=1)\n",
    "\n",
    "    dict_k_df_X = {}\n",
    "    dict_k_s_y = {}\n",
    "    \n",
    "    for i in range(1,k+1):\n",
    "        dict_k_df_X[i] = df_X[df_X_with_random[0] == i]\n",
    "        dict_k_s_y[i] = s_y[s_y_with_random[0] == i]\n",
    "        \n",
    "    return dict_k_df_X, dict_k_s_y"
   ]
  },
  {
   "cell_type": "code",
   "execution_count": 35,
   "metadata": {},
   "outputs": [],
   "source": [
    "(dict_k_df_X, dict_k_s_y) = partition_data( df_X, s_y, 5 )"
   ]
  },
  {
   "cell_type": "code",
   "execution_count": 36,
   "metadata": {},
   "outputs": [
    {
     "name": "stdout",
     "output_type": "stream",
     "text": [
      "Fold 1 length of dataframe is 97 and length of series is 97\n",
      "Fold 2 length of dataframe is 96 and length of series is 96\n",
      "Fold 3 length of dataframe is 73 and length of series is 73\n",
      "Fold 4 length of dataframe is 82 and length of series is 82\n",
      "Fold 5 length of dataframe is 94 and length of series is 94\n",
      "The sum of the number of elements in each fold is 442 442 and there are 442 rows in the original df\n"
     ]
    }
   ],
   "source": [
    "# Check fold sizes\n",
    "sum_len_df = 0\n",
    "sum_len_series = 0\n",
    "\n",
    "for i in range(1,6):\n",
    "    len_df = len(dict_k_df_X[i])\n",
    "    len_series = len(dict_k_s_y[i]) \n",
    "    sum_len_df += len_df\n",
    "    sum_len_series += len_series\n",
    "    print(\"Fold\", i, \"length of dataframe is\", len_df ,\"and length of series is\", len_series)\n",
    "\n",
    "print(\"The sum of the number of elements in each fold is\",sum_len_df, sum_len_series, \"and there are\", len(df_X),\"rows in the original df\")"
   ]
  },
  {
   "cell_type": "markdown",
   "metadata": {},
   "source": [
    "## Q1.4 Define a function that calculates a regression metric\n",
    "This function should accept two series of equal length $n$ numpy arrays, `s_y`, and `s_y_hat`. The metric it should calculate is the mean absolute error, $MAE = \\sum\\limits_{i=1}^n\\frac{|{s\\_y_i - {s\\_y\\_hat}_i}|}{n}$ \n",
    "\n",
    "Test your function by using the vectors:\n",
    "```\n",
    "x = np.array([1,2,3])\n",
    "y = np.array([2,2,3])\n",
    "```\n"
   ]
  },
  {
   "cell_type": "code",
   "execution_count": 37,
   "metadata": {},
   "outputs": [],
   "source": [
    "def get_mae( s_y, s_y_hat):\n",
    "    # your code here\n",
    "    mae = 0\n",
    "    \n",
    "    # BETTER WAY: mae = np.absolute(s_y - s_y_hat)\n",
    "    for i in range(len(s_y)):\n",
    "        mae += np.absolute(s_y[i] - s_y_hat[i])/len(s_y)\n",
    "    \n",
    "    return mae   "
   ]
  },
  {
   "cell_type": "code",
   "execution_count": 38,
   "metadata": {},
   "outputs": [
    {
     "data": {
      "text/plain": [
       "0.3333333333333333"
      ]
     },
     "execution_count": 38,
     "metadata": {},
     "output_type": "execute_result"
    }
   ],
   "source": [
    "# Test it \n",
    "x = np.array([1,2,3])\n",
    "y = np.array([2,2,3])\n",
    "get_mae(x,y)"
   ]
  },
  {
   "cell_type": "code",
   "execution_count": null,
   "metadata": {},
   "outputs": [],
   "source": []
  },
  {
   "cell_type": "markdown",
   "metadata": {},
   "source": [
    "## Q1.5 Calculate the $MAE$ for each fold\n",
    "For each fold in your dictionaries, calculate the $MAE$.  Use the partition number key as the test set, and all other partitions as the train set. \n",
    "\n",
    "Print the min, max, and mean $MAE$ of your 5 folds. "
   ]
  },
  {
   "cell_type": "code",
   "execution_count": 39,
   "metadata": {},
   "outputs": [],
   "source": [
    "mae = np.array([])\n",
    "for k in dict_k_df_X.keys():\n",
    "    # your code here\n",
    "    \n",
    "    # wrong, need s_y and df_X to be all folds NOT k (opposite of just k)\n",
    "    # CORRECTED, NEED TO CALCULATE BETA_HAT PER EACH FOLD\n",
    "    s_y = dict_k_s_y[k].to_numpy()\n",
    "    # X = dict_k_df_X[k]\n",
    "    # beta_hat = get_linear_regression_model(X, s_y)\n",
    "    \n",
    "    s_y_hat = np.dot(dict_k_df_X[k], beta_hat)\n",
    "    \n",
    "    mae = np.append( mae, get_mae(s_y,s_y_hat) )  "
   ]
  },
  {
   "cell_type": "code",
   "execution_count": 40,
   "metadata": {},
   "outputs": [
    {
     "name": "stdout",
     "output_type": "stream",
     "text": [
      "The min MAE is 37.01, the max MAE is 48.67, and the mean MAE is 43.27\n"
     ]
    }
   ],
   "source": [
    "print(\"The min MAE is {:.2f}, the max MAE is {:.2f}, and the mean MAE is {:.2f}\".format(mae.min(),mae.max(),mae.mean()))"
   ]
  },
  {
   "cell_type": "markdown",
   "metadata": {},
   "source": [
    "# Part 2 - Find the best hyperparameter to use in a Decision Tree "
   ]
  },
  {
   "cell_type": "markdown",
   "metadata": {},
   "source": [
    "## Q2.1 Load the iris data in as a pandas dataframe and a series\n",
    "Documentation on the data set is [here](https://scikit-learn.org/stable/modules/generated/sklearn.datasets.load_iris.html). Name your features dataframe (the independent variables) `df_X` and your class label (the dependent variable) series `s_y`"
   ]
  },
  {
   "cell_type": "code",
   "execution_count": 41,
   "metadata": {},
   "outputs": [],
   "source": [
    "df_X, s_y = load_iris(return_X_y = True, as_frame = True)"
   ]
  },
  {
   "cell_type": "markdown",
   "metadata": {},
   "source": [
    "## Q2.2 Partition `df_X` and `s_y` into $5$ partitions of roughly equal size\n",
    "Make 2 dictionaries, with the key of each dictionary the fold number.  The value of the dictionary `dict_k_df_X` is the $k^{th}$ partition of the data, and the value of the dictionary `dict_k_s_y` is the corresponding $k^{th}$ target classification.  Print out the number of rows in each fold.  Check that the number of data points in each partition totals the number of data points in the entire dataset. \n",
    "\n",
    "Note, you can reuse the functions from Section 1. "
   ]
  },
  {
   "cell_type": "code",
   "execution_count": 42,
   "metadata": {},
   "outputs": [
    {
     "name": "stdout",
     "output_type": "stream",
     "text": [
      "Fold 1 length of dataframe is 27 and length of series is 27\n",
      "Fold 2 length of dataframe is 39 and length of series is 39\n",
      "Fold 3 length of dataframe is 30 and length of series is 30\n",
      "Fold 4 length of dataframe is 18 and length of series is 18\n",
      "Fold 5 length of dataframe is 36 and length of series is 36\n",
      "The sum of the number of elements in each fold is 150 150 and there are 150 rows in the original df\n"
     ]
    }
   ],
   "source": [
    "(dict_k_df_X, dict_k_s_y) = partition_data( df_X, s_y, 5 )\n",
    "# Check fold sizes\n",
    "sum_len_df = 0\n",
    "sum_len_series = 0\n",
    "for i in range(1,6):\n",
    "    len_df = len(dict_k_df_X[i])\n",
    "    len_series = len(dict_k_s_y[i]) \n",
    "    sum_len_df += len_df\n",
    "    sum_len_series += len_series\n",
    "    print(\"Fold\", i, \"length of dataframe is\", len_df ,\"and length of series is\", len_series)\n",
    "print(\"The sum of the number of elements in each fold is\",sum_len_df, sum_len_series, \"and there are\", len(df_X),\"rows in the original df\")"
   ]
  },
  {
   "cell_type": "markdown",
   "metadata": {},
   "source": [
    "## Q2.3 Define a function that calculates accuracy\n",
    "The function should accept two series and compare each element for equality.  The accuracy is the number of equal elements divided by the total number of elements.\n",
    "\n",
    "Test your accuracy function by calling it with the `s_y` loaded from the iris data set and an array of the same length containing all $1$ values. "
   ]
  },
  {
   "cell_type": "code",
   "execution_count": 43,
   "metadata": {},
   "outputs": [],
   "source": [
    "def get_acc( s_1, s_2 ):\n",
    "    # your code here\n",
    "    equal = 0\n",
    "    for i in range(len(s_1)):\n",
    "        if s_1[i] == s_2[i]:\n",
    "            equal += 1\n",
    "    \n",
    "    return equal/len(s_1)"
   ]
  },
  {
   "cell_type": "code",
   "execution_count": 44,
   "metadata": {},
   "outputs": [
    {
     "data": {
      "text/plain": [
       "0.3333333333333333"
      ]
     },
     "execution_count": 44,
     "metadata": {},
     "output_type": "execute_result"
    }
   ],
   "source": [
    "get_acc(s_y,np.ones(len(s_y)))"
   ]
  },
  {
   "cell_type": "markdown",
   "metadata": {},
   "source": [
    "## Q2.4 Using Nested Cross validation, find the best hyperparameter\n",
    "Use the [Decision Tree Classifier](https://scikit-learn.org/stable/modules/tree.html#classification) class to build a decision tree inside of a 5-fold cross validation loop.  The partitions you already created in 2.2 will be the outer loop.  In the inside loop you should use 4-fold cross validation (so you don't have to partition _again_) to find the best value for `min_impurity_decrease`.  Use the Gini Index as your impurity measure. \n",
    "    Calculate the mean accuracy across the 4 folds of your inner loop for all the candidate `min_impurity_decrease` values, and print the value.  Use the array `np.array([0.1,0.25,0.3,0.4])` as the candidates for the best hyperparameter. If there is a tie (two `min_impurity_decrease` values give the same highest accuracy), choose the lowest `min_impurity_decrease` value. \n",
    "\n",
    "For each inner loop, select the best `min_impurity_decrease` and train the outer fold training data on using that value. \n",
    "\n",
    "For each of the 5 executions of the inner loop, your output should look something like this:\n",
    "```\n",
    "Testing 0.10 min impurity decrease\n",
    "\tAverage accuracy over 4 folds is 0.95\n",
    "Testing 0.25 min impurity decrease\n",
    "\tAverage accuracy over 4 folds is 0.86\n",
    "Testing 0.30 min impurity decrease\n",
    "\tAverage accuracy over 4 folds is 0.63\n",
    "Testing 0.40 min impurity decrease\n",
    "\tAverage accuracy over 4 folds is 0.27\n",
    "\n",
    "Best min impurity decrease is 0.1\n",
    "\n",
    "```"
   ]
  },
  {
   "cell_type": "code",
   "execution_count": 45,
   "metadata": {},
   "outputs": [
    {
     "name": "stdout",
     "output_type": "stream",
     "text": [
      "Testing 0.1 min impurity decrease\n",
      "    Average accuracy over 4 folds is 0.916\n",
      "Testing 0.25 min impurity decrease\n",
      "    Average accuracy over 4 folds is 0.819\n",
      "Testing 0.3 min impurity decrease\n",
      "    Average accuracy over 4 folds is 0.627\n",
      "Testing 0.4 min impurity decrease\n",
      "    Average accuracy over 4 folds is 0.251\n",
      "\n",
      "Best min impurity decrease is 0.4 \n",
      "\n",
      "\n",
      "Testing 0.1 min impurity decrease\n",
      "    Average accuracy over 4 folds is 0.932\n",
      "Testing 0.25 min impurity decrease\n",
      "    Average accuracy over 4 folds is 0.932\n",
      "Testing 0.3 min impurity decrease\n",
      "    Average accuracy over 4 folds is 0.775\n",
      "Testing 0.4 min impurity decrease\n",
      "    Average accuracy over 4 folds is 0.376\n",
      "\n",
      "Best min impurity decrease is 0.3 \n",
      "\n",
      "\n",
      "Testing 0.1 min impurity decrease\n",
      "    Average accuracy over 4 folds is 0.966\n",
      "Testing 0.25 min impurity decrease\n",
      "    Average accuracy over 4 folds is 0.966\n",
      "Testing 0.3 min impurity decrease\n",
      "    Average accuracy over 4 folds is 0.686\n",
      "Testing 0.4 min impurity decrease\n",
      "    Average accuracy over 4 folds is 0.259\n",
      "\n",
      "Best min impurity decrease is 0.1 \n",
      "\n",
      "\n",
      "Testing 0.1 min impurity decrease\n",
      "    Average accuracy over 4 folds is 0.937\n",
      "Testing 0.25 min impurity decrease\n",
      "    Average accuracy over 4 folds is 0.844\n",
      "Testing 0.3 min impurity decrease\n",
      "    Average accuracy over 4 folds is 0.645\n",
      "Testing 0.4 min impurity decrease\n",
      "    Average accuracy over 4 folds is 0.308\n",
      "\n",
      "Best min impurity decrease is 0.3 \n",
      "\n",
      "\n",
      "Testing 0.1 min impurity decrease\n",
      "    Average accuracy over 4 folds is 0.95\n",
      "Testing 0.25 min impurity decrease\n",
      "    Average accuracy over 4 folds is 0.95\n",
      "Testing 0.3 min impurity decrease\n",
      "    Average accuracy over 4 folds is 0.702\n",
      "Testing 0.4 min impurity decrease\n",
      "    Average accuracy over 4 folds is 0.248\n",
      "\n",
      "Best min impurity decrease is 0.3 \n",
      "\n",
      "\n"
     ]
    }
   ],
   "source": [
    "possible_min_impurity_decrease = np.array([0.1,0.25,0.3,0.4]) \n",
    "# no over training happening because overtraining/overfitting would happen at smaller impurities.\n",
    "# This actually underfit data\n",
    "\n",
    "# Outer loop\n",
    "outer_acc = np.array([])\n",
    "\n",
    "for k in dict_k_df_X.keys():\n",
    "\n",
    "    # your code here, partition of 1 and 4\n",
    "    outer_test_df = dict_k_df_X[k]\n",
    "    outer_test_s_y = dict_k_s_y[k]\n",
    "    outer_train_df = pd.DataFrame()\n",
    "    outer_train_s_y = pd.DataFrame()\n",
    "    for i in dict_k_df_X.keys() - [k]:\n",
    "        outer_train_df = pd.concat([outer_train_df, dict_k_df_X[i]], axis=0)\n",
    "        outer_train_s_y = pd.concat([outer_train_s_y, dict_k_s_y[i]], axis=0)\n",
    "\n",
    "    highest_acc = 0\n",
    "    \n",
    "    for pos_min_impurity in possible_min_impurity_decrease:\n",
    "        print(\"Testing\", pos_min_impurity, \"min impurity decrease\")\n",
    "        \n",
    "        inner_acc = np.array([])\n",
    "        \n",
    "        # Inner loop cross validation code here (use 4 folds, where the fold does not include k\n",
    "        for i in dict_k_df_X.keys() - [k]:\n",
    "            \n",
    "            # set up partitions for inner loop\n",
    "            inner_test_df = dict_k_df_X[i]\n",
    "            inner_test_s_y = dict_k_s_y[i]\n",
    "            inner_train_df = pd.DataFrame()\n",
    "            inner_train_s_y = pd.DataFrame()\n",
    "            \n",
    "            # CORRECTED, FORGOT TO SUBTRACT BOTH I AND K :(\n",
    "            for j in dict_k_df_X.keys() - [i,k]:\n",
    "                inner_train_df = pd.concat([inner_train_df, dict_k_df_X[j]], axis=0)\n",
    "                inner_train_s_y = pd.concat([inner_train_s_y, dict_k_s_y[j]], axis=0)\n",
    "            \n",
    "            # making a tree for each fold\n",
    "            decision_tree = tree.DecisionTreeClassifier(criterion=\"gini\", min_impurity_decrease = pos_min_impurity)\n",
    "            decision_tree = decision_tree.fit(inner_train_df, inner_train_s_y)\n",
    "            \n",
    "            prediction = decision_tree.predict(inner_test_df)\n",
    "            \n",
    "            # calculating the accuracy for this fold\n",
    "            this_acc_1 = get_acc( prediction, np.array(inner_test_s_y))\n",
    "            inner_acc = np.append(inner_acc, this_acc_1)\n",
    "        \n",
    "        print(\"    Average accuracy over 4 folds is\", np.round(np.mean(inner_acc), 3))\n",
    "            \n",
    "    # Use best min impurity decrease to train model\n",
    "    highest_acc_indx = inner_acc.argmax(axis=0)\n",
    "    highest_acc_val = possible_min_impurity_decrease[highest_acc_indx]\n",
    "    print(\"\\nBest min impurity decrease is\", highest_acc_val, \"\\n\\n\")\n",
    "    \n",
    "    decision_tree = tree.DecisionTreeClassifier(criterion=\"gini\", min_impurity_decrease = highest_acc_val)\n",
    "    decision_tree = decision_tree.fit(outer_train_df, outer_train_s_y)\n",
    "    \n",
    "    # outer accuracy calculation \n",
    "    prediction = decision_tree.predict(outer_test_df)\n",
    "    this_acc = get_acc( prediction, np.array(outer_test_s_y))\n",
    "    outer_acc = np.append(outer_acc, this_acc) # make sure and calculate this_acc in your loop    "
   ]
  },
  {
   "cell_type": "markdown",
   "metadata": {},
   "source": [
    "## Q2.5 Show the generalized performance of the classifier \n",
    "Show the generalized performance of the classifier by printing the min, max, and mean accuracy of the outer fold test sets."
   ]
  },
  {
   "cell_type": "code",
   "execution_count": 46,
   "metadata": {},
   "outputs": [
    {
     "name": "stdout",
     "output_type": "stream",
     "text": [
      "My minimum accuracy of the outer fold test sets is 0.296\n",
      "My maximum accuracy of the outer fold test sets is 0.933\n",
      "My avergae accuracy of the outer fold test sets is 0.607\n"
     ]
    }
   ],
   "source": [
    "print(\"My minimum accuracy of the outer fold test sets is\", np.round(outer_acc.min(), 3))\n",
    "print(\"My maximum accuracy of the outer fold test sets is\", np.round(outer_acc.max(), 3))\n",
    "print(\"My avergae accuracy of the outer fold test sets is\", np.round(np.mean(outer_acc), 3))"
   ]
  },
  {
   "cell_type": "code",
   "execution_count": null,
   "metadata": {},
   "outputs": [],
   "source": []
  },
  {
   "cell_type": "code",
   "execution_count": null,
   "metadata": {},
   "outputs": [],
   "source": []
  }
 ],
 "metadata": {
  "kernelspec": {
   "display_name": "Python 3",
   "language": "python",
   "name": "python3"
  },
  "language_info": {
   "codemirror_mode": {
    "name": "ipython",
    "version": 3
   },
   "file_extension": ".py",
   "mimetype": "text/x-python",
   "name": "python",
   "nbconvert_exporter": "python",
   "pygments_lexer": "ipython3",
   "version": "3.8.8"
  }
 },
 "nbformat": 4,
 "nbformat_minor": 4
}
