{
 "cells": [
  {
   "cell_type": "markdown",
   "metadata": {},
   "source": [
    "### C S 329E HW 4\n",
    "\n",
    "## Pair Programming Group Number: 22\n",
    "## Members of Team: Marissa Green\n",
    "\n",
    "## Decision Tree Classifier\n",
    "\n",
    "\n",
    "For this weeks homework we are going to explore ideas around decision tree implementation!  \n",
    "\n",
    "We will implement some helper functions that would be necessary for a home-grown tree:\n",
    "  - calc_entropy\n",
    "  - calc_gini\n",
    "  \n",
    "and them test them out at given data splits. \n",
    "  \n",
    "And finally, to perform predictive and descriptive analytics we use the [Decision Tree Classifier](https://scikit-learn.org/stable/modules/tree.html#classification) class in the scikit-learn package.\n",
    "\n",
    "  \n",
    "For this assignment, the stopping condition will be the depth of the tree. The impurity measure can be either `Entropy` or `Gini`.\n",
    "\n",
    "To test our tree built from the Decision Tree Classifier class, we will revisit our Melbourne housing data (that has been cleaned and pruned) and use the files:\n",
    "\n",
    "   - `melb_tree_train.csv` for training the decision tree (we'll also see what happens if we use the same data to test as we used to train the data in the last problem)\n",
    "   - `melb_tree_test.csv` for testing the decision tree\n",
    "\n",
    "There are 10 features in these dataframes that we can use to describe and predict the class label housing \"Type\", which is 'h' house, 'u' duplex, or 't' townhome. "
   ]
  },
  {
   "cell_type": "code",
   "execution_count": 1,
   "metadata": {},
   "outputs": [],
   "source": [
    "# import the libraries\n",
    "import pandas as pd\n",
    "import numpy as np\n",
    "import matplotlib.pyplot as plt\n",
    "%matplotlib inline\n",
    "from math import log2\n",
    "from sklearn import tree # you'll probably need to install this - look at Q6 for a link \n",
    "import graphviz # you'll probably need to install this - look at Q6 for a link "
   ]
  },
  {
   "cell_type": "markdown",
   "metadata": {},
   "source": [
    "## Q1 Load the Data\n",
    "Load in the melb_tree_train.csv into a dataframe, and split that dataframe into `df_X`, which contains the features of the data set (everything but `Type`), and `s_y`, the series containing just the class label (just `Type`). The lengths of `df_X` and `s_y` should match."
   ]
  },
  {
   "cell_type": "code",
   "execution_count": 2,
   "metadata": {},
   "outputs": [],
   "source": [
    "df = pd.read_csv('melb_tree_train.csv')\n",
    "df_X = df.loc[:, df.columns != 'Type']\n",
    "s_y = df[\"Type\"]"
   ]
  },
  {
   "cell_type": "markdown",
   "metadata": {},
   "source": [
    "## Q2 Implement a function to calculate entropy \n",
    "Implement a function `calc_entropy` that takes the the class label series, `s_y`, as a parameter. Implement using the definition on p128 in the DM book and only use pandas and log2 libraries"
   ]
  },
  {
   "cell_type": "code",
   "execution_count": 3,
   "metadata": {},
   "outputs": [],
   "source": [
    "# calc_entropy(s_y) definition\n",
    "def calc_entropy(s_y): \n",
    "    p_zero = s_y.value_counts(normalize=True)[0]\n",
    "    p_one = s_y.value_counts(normalize=True)[1]\n",
    "    p_two = s_y.value_counts(normalize=True)[2]\n",
    "    \n",
    "    return - p_zero*log2(p_zero) - p_one*log2(p_one) - p_two*log2(p_two)"
   ]
  },
  {
   "cell_type": "markdown",
   "metadata": {},
   "source": [
    "## Q3 Use the entropy function to\n",
    "  - (a) Calculate the entropy of the entire training set\n",
    "  - (b) Calculate the entropy of the three partitions formed from \n",
    "    * Landsize $\\in$ [0,200]\n",
    "    * Landsize $\\in$ (200,450]\n",
    "    * Landsize $\\in$ (450, $\\infty$)"
   ]
  },
  {
   "cell_type": "code",
   "execution_count": 4,
   "metadata": {},
   "outputs": [
    {
     "data": {
      "text/plain": [
       "1.582533311426178"
      ]
     },
     "execution_count": 4,
     "metadata": {},
     "output_type": "execute_result"
    }
   ],
   "source": [
    "# The entire data set\n",
    "calc_entropy(s_y)"
   ]
  },
  {
   "cell_type": "code",
   "execution_count": 5,
   "metadata": {},
   "outputs": [
    {
     "data": {
      "text/plain": [
       "1.3977725338275824"
      ]
     },
     "execution_count": 5,
     "metadata": {},
     "output_type": "execute_result"
    }
   ],
   "source": [
    "# Less than or equal to 200\n",
    "# sort dataframe based on landsize so i can partition it into the three ranges\n",
    "df_sorted = df.sort_values(by = [\"Landsize\"], axis=0)\n",
    "\n",
    "# send over the s_y associated with landsize [0,200]\n",
    "landsize_1 = df_sorted.loc[(df_sorted['Landsize'] > 0) & (df_sorted['Landsize'] <= 200)] # get rows for when landsize is [0,200]\n",
    "landsize_1_type = landsize_1[\"Type\"] # send over type column for those rows\n",
    "calc_entropy(landsize_1_type)"
   ]
  },
  {
   "cell_type": "code",
   "execution_count": 6,
   "metadata": {},
   "outputs": [
    {
     "data": {
      "text/plain": [
       "1.4660501816027975"
      ]
     },
     "execution_count": 6,
     "metadata": {},
     "output_type": "execute_result"
    }
   ],
   "source": [
    "# Between 200 and 450\n",
    "landsize_2 = df_sorted.loc[(df_sorted['Landsize'] > 200) & (df_sorted['Landsize'] <= 450)] # get rows for when landsize is [0,200]\n",
    "landsize_2_type = landsize_2[\"Type\"] # send over type column for those rows\n",
    "calc_entropy(landsize_2_type)"
   ]
  },
  {
   "cell_type": "code",
   "execution_count": 7,
   "metadata": {},
   "outputs": [
    {
     "data": {
      "text/plain": [
       "1.09954792005911"
      ]
     },
     "execution_count": 7,
     "metadata": {},
     "output_type": "execute_result"
    }
   ],
   "source": [
    "# greater than 450\n",
    "landsize_3 = df_sorted.loc[(df_sorted['Landsize'] > 450)] # get rows for when landsize is [0,200]\n",
    "landsize_3_type = landsize_3[\"Type\"] # send over type column for those rows\n",
    "calc_entropy(landsize_3_type)"
   ]
  },
  {
   "cell_type": "markdown",
   "metadata": {},
   "source": [
    "## Q4 Implement a function to calculate the Gini Index\n",
    "Implement the function `calc_gini` that takes the class label series, `s_y`, as a parameter. Implement using the definition on p128 in the DM book and only use the pandas library."
   ]
  },
  {
   "cell_type": "code",
   "execution_count": 8,
   "metadata": {},
   "outputs": [],
   "source": [
    "def calc_gini(s_y):\n",
    "    p_zero = s_y.value_counts(normalize=True)[0]\n",
    "    p_one = s_y.value_counts(normalize=True)[1]\n",
    "    p_two = s_y.value_counts(normalize=True)[2]\n",
    "    \n",
    "    gini = 1 - p_zero**2 - p_one**2 - p_two**2\n",
    "    \n",
    "    return gini"
   ]
  },
  {
   "cell_type": "markdown",
   "metadata": {},
   "source": [
    "## Q5 Use the Gini Index function to\n",
    "  - (a) Calculate the Gini index of the entire training set\n",
    "  - (b) Calculate the Gini index of the three partitions formed from \n",
    "    * Landsize $\\in$ [0,200]\n",
    "    * Landsize $\\in$ (200,450]\n",
    "    * Landsize $\\in$ (450, $\\infty$)"
   ]
  },
  {
   "cell_type": "code",
   "execution_count": 9,
   "metadata": {},
   "outputs": [
    {
     "data": {
      "text/plain": [
       "0.6655601280292637"
      ]
     },
     "execution_count": 9,
     "metadata": {},
     "output_type": "execute_result"
    }
   ],
   "source": [
    "# The entire data set\n",
    "calc_gini(s_y)"
   ]
  },
  {
   "cell_type": "code",
   "execution_count": 10,
   "metadata": {},
   "outputs": [
    {
     "data": {
      "text/plain": [
       "0.5786025602368355"
      ]
     },
     "execution_count": 10,
     "metadata": {},
     "output_type": "execute_result"
    }
   ],
   "source": [
    "# Less than or equal to 200\n",
    "calc_gini(landsize_1_type)"
   ]
  },
  {
   "cell_type": "code",
   "execution_count": 11,
   "metadata": {},
   "outputs": [
    {
     "data": {
      "text/plain": [
       "0.6101021682602731"
      ]
     },
     "execution_count": 11,
     "metadata": {},
     "output_type": "execute_result"
    }
   ],
   "source": [
    "# Between 200 and 450\n",
    "calc_gini(landsize_2_type)"
   ]
  },
  {
   "cell_type": "code",
   "execution_count": 12,
   "metadata": {},
   "outputs": [
    {
     "data": {
      "text/plain": [
       "0.4381934171597633"
      ]
     },
     "execution_count": 12,
     "metadata": {},
     "output_type": "execute_result"
    }
   ],
   "source": [
    "# greater than 450\n",
    "calc_gini(landsize_3_type)"
   ]
  },
  {
   "cell_type": "markdown",
   "metadata": {},
   "source": [
    "## Q6 Create a decision tree \n",
    "Using [scikit-learn](https://scikit-learn.org/stable/modules/tree.html#tree) create a multi class classifer for the data set using the Entropy impurity measure and a max depth of 3.\n",
    "\n",
    "Note that scikit-learn's algorithm doesn't handle categorical data, so that needs to be preprocessed using an one hot encoding.\n",
    "\n",
    "Display the tree using `export_text` from sklearn.tree, and use that information to write some descriptive analytics on the classification of houses.  For extra fun, use the export_graphviz to draw the graph (see documentation on the [scikit-learn webpage](https://scikit-learn.org/stable/modules/tree.html#classification)). "
   ]
  },
  {
   "cell_type": "code",
   "execution_count": 13,
   "metadata": {},
   "outputs": [],
   "source": [
    "# https://scikit-learn.org/stable/modules/generated/sklearn.tree.DecisionTreeClassifier.html\n",
    "\n",
    "# Create Tree\n",
    "decision_tree = tree.DecisionTreeClassifier(criterion = \"entropy\", max_depth = 3)\n",
    "\n",
    "# one hot encoding on CouncilArea\n",
    "df_X_dummies = pd.concat([df_X,pd.get_dummies(df_X[\"CouncilArea\"])], axis = 1) # add in dummy columns\n",
    "df_X_dummies = df_X_dummies.drop(['CouncilArea', \"Yarra\"], axis=1) # remove old \"CouncilArea\" column\n",
    "decision_tree = decision_tree.fit(df_X_dummies, s_y)"
   ]
  },
  {
   "cell_type": "code",
   "execution_count": 20,
   "metadata": {},
   "outputs": [
    {
     "data": {
      "text/plain": [
       "['sepal length (cm)',\n",
       " 'sepal width (cm)',\n",
       " 'petal length (cm)',\n",
       " 'petal width (cm)']"
      ]
     },
     "execution_count": 20,
     "metadata": {},
     "output_type": "execute_result"
    }
   ],
   "source": [
    "# irrelvant, just checking\n",
    "from sklearn.datasets import load_iris\n",
    "iris = load_iris()\n",
    "iris[\"feature_names\"]"
   ]
  },
  {
   "cell_type": "code",
   "execution_count": 21,
   "metadata": {},
   "outputs": [
    {
     "name": "stdout",
     "output_type": "stream",
     "text": [
      "|--- YearBuilt <= 1977.50\n",
      "|   |--- Rooms <= 2.50\n",
      "|   |   |--- Price <= 915000.00\n",
      "|   |   |   |--- class: u\n",
      "|   |   |--- Price >  915000.00\n",
      "|   |   |   |--- class: h\n",
      "|   |--- Rooms >  2.50\n",
      "|   |   |--- Landsize <= 429.00\n",
      "|   |   |   |--- class: h\n",
      "|   |   |--- Landsize >  429.00\n",
      "|   |   |   |--- class: h\n",
      "|--- YearBuilt >  1977.50\n",
      "|   |--- BuildingArea <= 104.31\n",
      "|   |   |--- Landsize <= 76.00\n",
      "|   |   |   |--- class: u\n",
      "|   |   |--- Landsize >  76.00\n",
      "|   |   |   |--- class: t\n",
      "|   |--- BuildingArea >  104.31\n",
      "|   |   |--- Landsize <= 391.00\n",
      "|   |   |   |--- class: t\n",
      "|   |   |--- Landsize >  391.00\n",
      "|   |   |   |--- class: h\n",
      "\n"
     ]
    }
   ],
   "source": [
    "# Display text version of the tree\n",
    "\n",
    "# corrected, adds feature names into tree\n",
    "feature_names = ['Rooms', 'Price', 'Distance', 'Bedroom2', 'Bathroom', 'Car', 'Landsize',\n",
    "       'BuildingArea', 'YearBuilt', 'Banyule', 'Bayside', 'Boroondara',\n",
    "       'Brimbank', 'Darebin', 'Glen Eira', 'Hobsons Bay', 'Hume', 'Kingston',\n",
    "       'Knox', 'Manningham', 'Maribyrnong', 'Melbourne', 'Monash',\n",
    "       'Moonee Valley', 'Moreland', 'Port Phillip', 'Stonnington',\n",
    "       'Whitehorse', 'Wyndham']\n",
    "text_tree = tree.export_text(decision_tree, feature_names = feature_names)\n",
    "print(text_tree)"
   ]
  },
  {
   "cell_type": "code",
   "execution_count": 16,
   "metadata": {},
   "outputs": [
    {
     "data": {
      "image/svg+xml": [
       "<?xml version=\"1.0\" encoding=\"UTF-8\" standalone=\"no\"?>\n",
       "<!DOCTYPE svg PUBLIC \"-//W3C//DTD SVG 1.1//EN\"\n",
       " \"http://www.w3.org/Graphics/SVG/1.1/DTD/svg11.dtd\">\n",
       "<!-- Generated by graphviz version 2.40.1 (20161225.0304)\n",
       " -->\n",
       "<!-- Title: Tree Pages: 1 -->\n",
       "<svg width=\"940pt\" height=\"433pt\"\n",
       " viewBox=\"0.00 0.00 940.00 433.00\" xmlns=\"http://www.w3.org/2000/svg\" xmlns:xlink=\"http://www.w3.org/1999/xlink\">\n",
       "<g id=\"graph0\" class=\"graph\" transform=\"scale(1 1) rotate(0) translate(4 429)\">\n",
       "<title>Tree</title>\n",
       "<polygon fill=\"#ffffff\" stroke=\"transparent\" points=\"-4,4 -4,-429 936,-429 936,4 -4,4\"/>\n",
       "<!-- 0 -->\n",
       "<g id=\"node1\" class=\"node\">\n",
       "<title>0</title>\n",
       "<path fill=\"#ffffff\" stroke=\"#000000\" d=\"M490,-425C490,-425 390,-425 390,-425 384,-425 378,-419 378,-413 378,-413 378,-354 378,-354 378,-348 384,-342 390,-342 390,-342 490,-342 490,-342 496,-342 502,-348 502,-354 502,-354 502,-413 502,-413 502,-419 496,-425 490,-425\"/>\n",
       "<text text-anchor=\"start\" x=\"396.5\" y=\"-409.8\" font-family=\"Helvetica,sans-Serif\" font-size=\"14.00\" fill=\"#000000\">YearBuilt ≤ 1977.5</text>\n",
       "<text text-anchor=\"start\" x=\"403\" y=\"-394.8\" font-family=\"Helvetica,sans-Serif\" font-size=\"14.00\" fill=\"#000000\">entropy = 1.583</text>\n",
       "<text text-anchor=\"start\" x=\"405.5\" y=\"-379.8\" font-family=\"Helvetica,sans-Serif\" font-size=\"14.00\" fill=\"#000000\">samples = 810</text>\n",
       "<text text-anchor=\"start\" x=\"386\" y=\"-364.8\" font-family=\"Helvetica,sans-Serif\" font-size=\"14.00\" fill=\"#000000\">value = [248, 281, 281]</text>\n",
       "<text text-anchor=\"start\" x=\"420.5\" y=\"-349.8\" font-family=\"Helvetica,sans-Serif\" font-size=\"14.00\" fill=\"#000000\">class = t</text>\n",
       "</g>\n",
       "<!-- 1 -->\n",
       "<g id=\"node2\" class=\"node\">\n",
       "<title>1</title>\n",
       "<path fill=\"#fae7da\" stroke=\"#000000\" d=\"M417,-306C417,-306 323,-306 323,-306 317,-306 311,-300 311,-294 311,-294 311,-235 311,-235 311,-229 317,-223 323,-223 323,-223 417,-223 417,-223 423,-223 429,-229 429,-235 429,-235 429,-294 429,-294 429,-300 423,-306 417,-306\"/>\n",
       "<text text-anchor=\"start\" x=\"340\" y=\"-290.8\" font-family=\"Helvetica,sans-Serif\" font-size=\"14.00\" fill=\"#000000\">Rooms ≤ 2.5</text>\n",
       "<text text-anchor=\"start\" x=\"333\" y=\"-275.8\" font-family=\"Helvetica,sans-Serif\" font-size=\"14.00\" fill=\"#000000\">entropy = 1.264</text>\n",
       "<text text-anchor=\"start\" x=\"335.5\" y=\"-260.8\" font-family=\"Helvetica,sans-Serif\" font-size=\"14.00\" fill=\"#000000\">samples = 370</text>\n",
       "<text text-anchor=\"start\" x=\"319\" y=\"-245.8\" font-family=\"Helvetica,sans-Serif\" font-size=\"14.00\" fill=\"#000000\">value = [194, 23, 153]</text>\n",
       "<text text-anchor=\"start\" x=\"349\" y=\"-230.8\" font-family=\"Helvetica,sans-Serif\" font-size=\"14.00\" fill=\"#000000\">class = h</text>\n",
       "</g>\n",
       "<!-- 0&#45;&gt;1 -->\n",
       "<g id=\"edge1\" class=\"edge\">\n",
       "<title>0&#45;&gt;1</title>\n",
       "<path fill=\"none\" stroke=\"#000000\" d=\"M415.5174,-341.8796C410.4315,-333.2335 405.0189,-324.0322 399.7672,-315.1042\"/>\n",
       "<polygon fill=\"#000000\" stroke=\"#000000\" points=\"402.6741,-313.1428 394.5871,-306.2981 396.6406,-316.692 402.6741,-313.1428\"/>\n",
       "<text text-anchor=\"middle\" x=\"388.313\" y=\"-326.798\" font-family=\"Helvetica,sans-Serif\" font-size=\"14.00\" fill=\"#000000\">True</text>\n",
       "</g>\n",
       "<!-- 8 -->\n",
       "<g id=\"node9\" class=\"node\">\n",
       "<title>8</title>\n",
       "<path fill=\"#adf4ca\" stroke=\"#000000\" d=\"M603,-306C603,-306 501,-306 501,-306 495,-306 489,-300 489,-294 489,-294 489,-235 489,-235 489,-229 495,-223 501,-223 501,-223 603,-223 603,-223 609,-223 615,-229 615,-235 615,-235 615,-294 615,-294 615,-300 609,-306 603,-306\"/>\n",
       "<text text-anchor=\"start\" x=\"497\" y=\"-290.8\" font-family=\"Helvetica,sans-Serif\" font-size=\"14.00\" fill=\"#000000\">BuildingArea ≤ 104.315</text>\n",
       "<text text-anchor=\"start\" x=\"515\" y=\"-275.8\" font-family=\"Helvetica,sans-Serif\" font-size=\"14.00\" fill=\"#000000\">entropy = 1.341</text>\n",
       "<text text-anchor=\"start\" x=\"517.5\" y=\"-260.8\" font-family=\"Helvetica,sans-Serif\" font-size=\"14.00\" fill=\"#000000\">samples = 440</text>\n",
       "<text text-anchor=\"start\" x=\"501\" y=\"-245.8\" font-family=\"Helvetica,sans-Serif\" font-size=\"14.00\" fill=\"#000000\">value = [54, 258, 128]</text>\n",
       "<text text-anchor=\"start\" x=\"532.5\" y=\"-230.8\" font-family=\"Helvetica,sans-Serif\" font-size=\"14.00\" fill=\"#000000\">class = t</text>\n",
       "</g>\n",
       "<!-- 0&#45;&gt;8 -->\n",
       "<g id=\"edge8\" class=\"edge\">\n",
       "<title>0&#45;&gt;8</title>\n",
       "<path fill=\"none\" stroke=\"#000000\" d=\"M479.1722,-341.8796C487.7335,-332.7832 496.8732,-323.0722 505.6832,-313.7116\"/>\n",
       "<polygon fill=\"#000000\" stroke=\"#000000\" points=\"508.3557,-315.9789 512.6606,-306.2981 503.2583,-311.1813 508.3557,-315.9789\"/>\n",
       "<text text-anchor=\"middle\" x=\"513.4179\" y=\"-327.5866\" font-family=\"Helvetica,sans-Serif\" font-size=\"14.00\" fill=\"#000000\">False</text>\n",
       "</g>\n",
       "<!-- 2 -->\n",
       "<g id=\"node3\" class=\"node\">\n",
       "<title>2</title>\n",
       "<path fill=\"#a572ed\" stroke=\"#000000\" d=\"M209,-187C209,-187 121,-187 121,-187 115,-187 109,-181 109,-175 109,-175 109,-116 109,-116 109,-110 115,-104 121,-104 121,-104 209,-104 209,-104 215,-104 221,-110 221,-116 221,-116 221,-175 221,-175 221,-181 215,-187 209,-187\"/>\n",
       "<text text-anchor=\"start\" x=\"125\" y=\"-171.8\" font-family=\"Helvetica,sans-Serif\" font-size=\"14.00\" fill=\"#000000\">Price ≤ 915000.0</text>\n",
       "<text text-anchor=\"start\" x=\"128\" y=\"-156.8\" font-family=\"Helvetica,sans-Serif\" font-size=\"14.00\" fill=\"#000000\">entropy = 0.974</text>\n",
       "<text text-anchor=\"start\" x=\"130.5\" y=\"-141.8\" font-family=\"Helvetica,sans-Serif\" font-size=\"14.00\" fill=\"#000000\">samples = 182</text>\n",
       "<text text-anchor=\"start\" x=\"117\" y=\"-126.8\" font-family=\"Helvetica,sans-Serif\" font-size=\"14.00\" fill=\"#000000\">value = [33, 10, 139]</text>\n",
       "<text text-anchor=\"start\" x=\"144\" y=\"-111.8\" font-family=\"Helvetica,sans-Serif\" font-size=\"14.00\" fill=\"#000000\">class = u</text>\n",
       "</g>\n",
       "<!-- 1&#45;&gt;2 -->\n",
       "<g id=\"edge2\" class=\"edge\">\n",
       "<title>1&#45;&gt;2</title>\n",
       "<path fill=\"none\" stroke=\"#000000\" d=\"M310.9805,-230.2399C285.582,-215.4964 255.8111,-198.2148 229.8027,-183.1172\"/>\n",
       "<polygon fill=\"#000000\" stroke=\"#000000\" points=\"231.544,-180.0811 221.1384,-178.0876 228.0297,-186.135 231.544,-180.0811\"/>\n",
       "</g>\n",
       "<!-- 5 -->\n",
       "<g id=\"node6\" class=\"node\">\n",
       "<title>5</title>\n",
       "<path fill=\"#e99558\" stroke=\"#000000\" d=\"M414,-187C414,-187 326,-187 326,-187 320,-187 314,-181 314,-175 314,-175 314,-116 314,-116 314,-110 320,-104 326,-104 326,-104 414,-104 414,-104 420,-104 426,-110 426,-116 426,-116 426,-175 426,-175 426,-181 420,-187 414,-187\"/>\n",
       "<text text-anchor=\"start\" x=\"330\" y=\"-171.8\" font-family=\"Helvetica,sans-Serif\" font-size=\"14.00\" fill=\"#000000\">Landsize ≤ 429.0</text>\n",
       "<text text-anchor=\"start\" x=\"333\" y=\"-156.8\" font-family=\"Helvetica,sans-Serif\" font-size=\"14.00\" fill=\"#000000\">entropy = 0.737</text>\n",
       "<text text-anchor=\"start\" x=\"335.5\" y=\"-141.8\" font-family=\"Helvetica,sans-Serif\" font-size=\"14.00\" fill=\"#000000\">samples = 188</text>\n",
       "<text text-anchor=\"start\" x=\"322\" y=\"-126.8\" font-family=\"Helvetica,sans-Serif\" font-size=\"14.00\" fill=\"#000000\">value = [161, 13, 14]</text>\n",
       "<text text-anchor=\"start\" x=\"349\" y=\"-111.8\" font-family=\"Helvetica,sans-Serif\" font-size=\"14.00\" fill=\"#000000\">class = h</text>\n",
       "</g>\n",
       "<!-- 1&#45;&gt;5 -->\n",
       "<g id=\"edge5\" class=\"edge\">\n",
       "<title>1&#45;&gt;5</title>\n",
       "<path fill=\"none\" stroke=\"#000000\" d=\"M370,-222.8796C370,-214.6838 370,-205.9891 370,-197.5013\"/>\n",
       "<polygon fill=\"#000000\" stroke=\"#000000\" points=\"373.5001,-197.298 370,-187.2981 366.5001,-197.2981 373.5001,-197.298\"/>\n",
       "</g>\n",
       "<!-- 3 -->\n",
       "<g id=\"node4\" class=\"node\">\n",
       "<title>3</title>\n",
       "<path fill=\"#8f4fe8\" stroke=\"#000000\" d=\"M88,-68C88,-68 12,-68 12,-68 6,-68 0,-62 0,-56 0,-56 0,-12 0,-12 0,-6 6,0 12,0 12,0 88,0 88,0 94,0 100,-6 100,-12 100,-12 100,-56 100,-56 100,-62 94,-68 88,-68\"/>\n",
       "<text text-anchor=\"start\" x=\"13\" y=\"-52.8\" font-family=\"Helvetica,sans-Serif\" font-size=\"14.00\" fill=\"#000000\">entropy = 0.595</text>\n",
       "<text text-anchor=\"start\" x=\"15.5\" y=\"-37.8\" font-family=\"Helvetica,sans-Serif\" font-size=\"14.00\" fill=\"#000000\">samples = 150</text>\n",
       "<text text-anchor=\"start\" x=\"8\" y=\"-22.8\" font-family=\"Helvetica,sans-Serif\" font-size=\"14.00\" fill=\"#000000\">value = [9, 7, 134]</text>\n",
       "<text text-anchor=\"start\" x=\"29\" y=\"-7.8\" font-family=\"Helvetica,sans-Serif\" font-size=\"14.00\" fill=\"#000000\">class = u</text>\n",
       "</g>\n",
       "<!-- 2&#45;&gt;3 -->\n",
       "<g id=\"edge3\" class=\"edge\">\n",
       "<title>2&#45;&gt;3</title>\n",
       "<path fill=\"none\" stroke=\"#000000\" d=\"M122.1782,-103.9815C112.5095,-94.607 102.2473,-84.6572 92.5882,-75.2921\"/>\n",
       "<polygon fill=\"#000000\" stroke=\"#000000\" points=\"94.9551,-72.7118 85.3392,-68.2637 90.0824,-77.7375 94.9551,-72.7118\"/>\n",
       "</g>\n",
       "<!-- 4 -->\n",
       "<g id=\"node5\" class=\"node\">\n",
       "<title>4</title>\n",
       "<path fill=\"#eda674\" stroke=\"#000000\" d=\"M200,-68C200,-68 130,-68 130,-68 124,-68 118,-62 118,-56 118,-56 118,-12 118,-12 118,-6 124,0 130,0 130,0 200,0 200,0 206,0 212,-6 212,-12 212,-12 212,-56 212,-56 212,-62 206,-68 200,-68\"/>\n",
       "<text text-anchor=\"start\" x=\"131\" y=\"-52.8\" font-family=\"Helvetica,sans-Serif\" font-size=\"14.00\" fill=\"#000000\">entropy = 1.05</text>\n",
       "<text text-anchor=\"start\" x=\"133.5\" y=\"-37.8\" font-family=\"Helvetica,sans-Serif\" font-size=\"14.00\" fill=\"#000000\">samples = 32</text>\n",
       "<text text-anchor=\"start\" x=\"126\" y=\"-22.8\" font-family=\"Helvetica,sans-Serif\" font-size=\"14.00\" fill=\"#000000\">value = [24, 3, 5]</text>\n",
       "<text text-anchor=\"start\" x=\"144\" y=\"-7.8\" font-family=\"Helvetica,sans-Serif\" font-size=\"14.00\" fill=\"#000000\">class = h</text>\n",
       "</g>\n",
       "<!-- 2&#45;&gt;4 -->\n",
       "<g id=\"edge4\" class=\"edge\">\n",
       "<title>2&#45;&gt;4</title>\n",
       "<path fill=\"none\" stroke=\"#000000\" d=\"M165,-103.9815C165,-95.618 165,-86.7965 165,-78.3409\"/>\n",
       "<polygon fill=\"#000000\" stroke=\"#000000\" points=\"168.5001,-78.2636 165,-68.2637 161.5001,-78.2637 168.5001,-78.2636\"/>\n",
       "</g>\n",
       "<!-- 6 -->\n",
       "<g id=\"node7\" class=\"node\">\n",
       "<title>6</title>\n",
       "<path fill=\"#efb285\" stroke=\"#000000\" d=\"M324,-68C324,-68 242,-68 242,-68 236,-68 230,-62 230,-56 230,-56 230,-12 230,-12 230,-6 236,0 242,0 242,0 324,0 324,0 330,0 336,-6 336,-12 336,-12 336,-56 336,-56 336,-62 330,-68 324,-68\"/>\n",
       "<text text-anchor=\"start\" x=\"249\" y=\"-52.8\" font-family=\"Helvetica,sans-Serif\" font-size=\"14.00\" fill=\"#000000\">entropy = 1.22</text>\n",
       "<text text-anchor=\"start\" x=\"251.5\" y=\"-37.8\" font-family=\"Helvetica,sans-Serif\" font-size=\"14.00\" fill=\"#000000\">samples = 69</text>\n",
       "<text text-anchor=\"start\" x=\"238\" y=\"-22.8\" font-family=\"Helvetica,sans-Serif\" font-size=\"14.00\" fill=\"#000000\">value = [47, 10, 12]</text>\n",
       "<text text-anchor=\"start\" x=\"262\" y=\"-7.8\" font-family=\"Helvetica,sans-Serif\" font-size=\"14.00\" fill=\"#000000\">class = h</text>\n",
       "</g>\n",
       "<!-- 5&#45;&gt;6 -->\n",
       "<g id=\"edge6\" class=\"edge\">\n",
       "<title>5&#45;&gt;6</title>\n",
       "<path fill=\"none\" stroke=\"#000000\" d=\"M337.6044,-103.9815C330.5766,-94.9747 323.1345,-85.4367 316.0807,-76.3965\"/>\n",
       "<polygon fill=\"#000000\" stroke=\"#000000\" points=\"318.646,-73.9946 309.7349,-68.2637 313.1272,-78.3008 318.646,-73.9946\"/>\n",
       "</g>\n",
       "<!-- 7 -->\n",
       "<g id=\"node8\" class=\"node\">\n",
       "<title>7</title>\n",
       "<path fill=\"#e68642\" stroke=\"#000000\" d=\"M442,-68C442,-68 366,-68 366,-68 360,-68 354,-62 354,-56 354,-56 354,-12 354,-12 354,-6 360,0 366,0 366,0 442,0 442,0 448,0 454,-6 454,-12 454,-12 454,-56 454,-56 454,-62 448,-68 442,-68\"/>\n",
       "<text text-anchor=\"start\" x=\"367\" y=\"-52.8\" font-family=\"Helvetica,sans-Serif\" font-size=\"14.00\" fill=\"#000000\">entropy = 0.292</text>\n",
       "<text text-anchor=\"start\" x=\"369.5\" y=\"-37.8\" font-family=\"Helvetica,sans-Serif\" font-size=\"14.00\" fill=\"#000000\">samples = 119</text>\n",
       "<text text-anchor=\"start\" x=\"362\" y=\"-22.8\" font-family=\"Helvetica,sans-Serif\" font-size=\"14.00\" fill=\"#000000\">value = [114, 3, 2]</text>\n",
       "<text text-anchor=\"start\" x=\"383\" y=\"-7.8\" font-family=\"Helvetica,sans-Serif\" font-size=\"14.00\" fill=\"#000000\">class = h</text>\n",
       "</g>\n",
       "<!-- 5&#45;&gt;7 -->\n",
       "<g id=\"edge7\" class=\"edge\">\n",
       "<title>5&#45;&gt;7</title>\n",
       "<path fill=\"none\" stroke=\"#000000\" d=\"M382.6603,-103.9815C385.2387,-95.5261 387.9597,-86.6026 390.564,-78.0623\"/>\n",
       "<polygon fill=\"#000000\" stroke=\"#000000\" points=\"393.9829,-78.8497 393.5519,-68.2637 387.2873,-76.808 393.9829,-78.8497\"/>\n",
       "</g>\n",
       "<!-- 9 -->\n",
       "<g id=\"node10\" class=\"node\">\n",
       "<title>9</title>\n",
       "<path fill=\"#c8a8f4\" stroke=\"#000000\" d=\"M590,-187C590,-187 514,-187 514,-187 508,-187 502,-181 502,-175 502,-175 502,-116 502,-116 502,-110 508,-104 514,-104 514,-104 590,-104 590,-104 596,-104 602,-110 602,-116 602,-116 602,-175 602,-175 602,-181 596,-187 590,-187\"/>\n",
       "<text text-anchor=\"start\" x=\"514.5\" y=\"-171.8\" font-family=\"Helvetica,sans-Serif\" font-size=\"14.00\" fill=\"#000000\">Landsize ≤ 76.0</text>\n",
       "<text text-anchor=\"start\" x=\"515\" y=\"-156.8\" font-family=\"Helvetica,sans-Serif\" font-size=\"14.00\" fill=\"#000000\">entropy = 1.118</text>\n",
       "<text text-anchor=\"start\" x=\"517.5\" y=\"-141.8\" font-family=\"Helvetica,sans-Serif\" font-size=\"14.00\" fill=\"#000000\">samples = 145</text>\n",
       "<text text-anchor=\"start\" x=\"510\" y=\"-126.8\" font-family=\"Helvetica,sans-Serif\" font-size=\"14.00\" fill=\"#000000\">value = [5, 49, 91]</text>\n",
       "<text text-anchor=\"start\" x=\"531\" y=\"-111.8\" font-family=\"Helvetica,sans-Serif\" font-size=\"14.00\" fill=\"#000000\">class = u</text>\n",
       "</g>\n",
       "<!-- 8&#45;&gt;9 -->\n",
       "<g id=\"edge9\" class=\"edge\">\n",
       "<title>8&#45;&gt;9</title>\n",
       "<path fill=\"none\" stroke=\"#000000\" d=\"M552,-222.8796C552,-214.6838 552,-205.9891 552,-197.5013\"/>\n",
       "<polygon fill=\"#000000\" stroke=\"#000000\" points=\"555.5001,-197.298 552,-187.2981 548.5001,-197.2981 555.5001,-197.298\"/>\n",
       "</g>\n",
       "<!-- 12 -->\n",
       "<g id=\"node13\" class=\"node\">\n",
       "<title>12</title>\n",
       "<path fill=\"#7eeead\" stroke=\"#000000\" d=\"M802,-187C802,-187 714,-187 714,-187 708,-187 702,-181 702,-175 702,-175 702,-116 702,-116 702,-110 708,-104 714,-104 714,-104 802,-104 802,-104 808,-104 814,-110 814,-116 814,-116 814,-175 814,-175 814,-181 808,-187 802,-187\"/>\n",
       "<text text-anchor=\"start\" x=\"718\" y=\"-171.8\" font-family=\"Helvetica,sans-Serif\" font-size=\"14.00\" fill=\"#000000\">Landsize ≤ 391.0</text>\n",
       "<text text-anchor=\"start\" x=\"721\" y=\"-156.8\" font-family=\"Helvetica,sans-Serif\" font-size=\"14.00\" fill=\"#000000\">entropy = 1.158</text>\n",
       "<text text-anchor=\"start\" x=\"723.5\" y=\"-141.8\" font-family=\"Helvetica,sans-Serif\" font-size=\"14.00\" fill=\"#000000\">samples = 295</text>\n",
       "<text text-anchor=\"start\" x=\"710\" y=\"-126.8\" font-family=\"Helvetica,sans-Serif\" font-size=\"14.00\" fill=\"#000000\">value = [49, 209, 37]</text>\n",
       "<text text-anchor=\"start\" x=\"738.5\" y=\"-111.8\" font-family=\"Helvetica,sans-Serif\" font-size=\"14.00\" fill=\"#000000\">class = t</text>\n",
       "</g>\n",
       "<!-- 8&#45;&gt;12 -->\n",
       "<g id=\"edge12\" class=\"edge\">\n",
       "<title>8&#45;&gt;12</title>\n",
       "<path fill=\"none\" stroke=\"#000000\" d=\"M615.2068,-227.9874C639.8551,-213.7487 668.0962,-197.4347 692.9213,-183.094\"/>\n",
       "<polygon fill=\"#000000\" stroke=\"#000000\" points=\"694.9916,-185.9401 701.8999,-177.9073 691.4901,-179.8788 694.9916,-185.9401\"/>\n",
       "</g>\n",
       "<!-- 10 -->\n",
       "<g id=\"node11\" class=\"node\">\n",
       "<title>10</title>\n",
       "<path fill=\"#9253e8\" stroke=\"#000000\" d=\"M554,-68C554,-68 484,-68 484,-68 478,-68 472,-62 472,-56 472,-56 472,-12 472,-12 472,-6 478,0 484,0 484,0 554,0 554,0 560,0 566,-6 566,-12 566,-12 566,-56 566,-56 566,-62 560,-68 554,-68\"/>\n",
       "<text text-anchor=\"start\" x=\"482\" y=\"-52.8\" font-family=\"Helvetica,sans-Serif\" font-size=\"14.00\" fill=\"#000000\">entropy = 0.523</text>\n",
       "<text text-anchor=\"start\" x=\"487.5\" y=\"-37.8\" font-family=\"Helvetica,sans-Serif\" font-size=\"14.00\" fill=\"#000000\">samples = 68</text>\n",
       "<text text-anchor=\"start\" x=\"480\" y=\"-22.8\" font-family=\"Helvetica,sans-Serif\" font-size=\"14.00\" fill=\"#000000\">value = [0, 8, 60]</text>\n",
       "<text text-anchor=\"start\" x=\"498\" y=\"-7.8\" font-family=\"Helvetica,sans-Serif\" font-size=\"14.00\" fill=\"#000000\">class = u</text>\n",
       "</g>\n",
       "<!-- 9&#45;&gt;10 -->\n",
       "<g id=\"edge10\" class=\"edge\">\n",
       "<title>9&#45;&gt;10</title>\n",
       "<path fill=\"none\" stroke=\"#000000\" d=\"M539.712,-103.9815C537.2095,-95.5261 534.5685,-86.6026 532.0409,-78.0623\"/>\n",
       "<polygon fill=\"#000000\" stroke=\"#000000\" points=\"535.3349,-76.8592 529.1408,-68.2637 528.6227,-78.8458 535.3349,-76.8592\"/>\n",
       "</g>\n",
       "<!-- 11 -->\n",
       "<g id=\"node12\" class=\"node\">\n",
       "<title>11</title>\n",
       "<path fill=\"#d4f9e4\" stroke=\"#000000\" d=\"M672,-68C672,-68 596,-68 596,-68 590,-68 584,-62 584,-56 584,-56 584,-12 584,-12 584,-6 590,0 596,0 596,0 672,0 672,0 678,0 684,-6 684,-12 684,-12 684,-56 684,-56 684,-62 678,-68 672,-68\"/>\n",
       "<text text-anchor=\"start\" x=\"597\" y=\"-52.8\" font-family=\"Helvetica,sans-Serif\" font-size=\"14.00\" fill=\"#000000\">entropy = 1.269</text>\n",
       "<text text-anchor=\"start\" x=\"602.5\" y=\"-37.8\" font-family=\"Helvetica,sans-Serif\" font-size=\"14.00\" fill=\"#000000\">samples = 77</text>\n",
       "<text text-anchor=\"start\" x=\"592\" y=\"-22.8\" font-family=\"Helvetica,sans-Serif\" font-size=\"14.00\" fill=\"#000000\">value = [5, 41, 31]</text>\n",
       "<text text-anchor=\"start\" x=\"614.5\" y=\"-7.8\" font-family=\"Helvetica,sans-Serif\" font-size=\"14.00\" fill=\"#000000\">class = t</text>\n",
       "</g>\n",
       "<!-- 9&#45;&gt;11 -->\n",
       "<g id=\"edge11\" class=\"edge\">\n",
       "<title>9&#45;&gt;11</title>\n",
       "<path fill=\"none\" stroke=\"#000000\" d=\"M582.5338,-103.9815C589.1576,-94.9747 596.1721,-85.4367 602.8205,-76.3965\"/>\n",
       "<polygon fill=\"#000000\" stroke=\"#000000\" points=\"605.6966,-78.3933 608.8016,-68.2637 600.0574,-74.2461 605.6966,-78.3933\"/>\n",
       "</g>\n",
       "<!-- 13 -->\n",
       "<g id=\"node14\" class=\"node\">\n",
       "<title>13</title>\n",
       "<path fill=\"#69eb9f\" stroke=\"#000000\" d=\"M802,-68C802,-68 714,-68 714,-68 708,-68 702,-62 702,-56 702,-56 702,-12 702,-12 702,-6 708,0 714,0 714,0 802,0 802,0 808,0 814,-6 814,-12 814,-12 814,-56 814,-56 814,-62 808,-68 802,-68\"/>\n",
       "<text text-anchor=\"start\" x=\"721\" y=\"-52.8\" font-family=\"Helvetica,sans-Serif\" font-size=\"14.00\" fill=\"#000000\">entropy = 0.933</text>\n",
       "<text text-anchor=\"start\" x=\"723.5\" y=\"-37.8\" font-family=\"Helvetica,sans-Serif\" font-size=\"14.00\" fill=\"#000000\">samples = 245</text>\n",
       "<text text-anchor=\"start\" x=\"710\" y=\"-22.8\" font-family=\"Helvetica,sans-Serif\" font-size=\"14.00\" fill=\"#000000\">value = [18, 194, 33]</text>\n",
       "<text text-anchor=\"start\" x=\"738.5\" y=\"-7.8\" font-family=\"Helvetica,sans-Serif\" font-size=\"14.00\" fill=\"#000000\">class = t</text>\n",
       "</g>\n",
       "<!-- 12&#45;&gt;13 -->\n",
       "<g id=\"edge13\" class=\"edge\">\n",
       "<title>12&#45;&gt;13</title>\n",
       "<path fill=\"none\" stroke=\"#000000\" d=\"M758,-103.9815C758,-95.618 758,-86.7965 758,-78.3409\"/>\n",
       "<polygon fill=\"#000000\" stroke=\"#000000\" points=\"761.5001,-78.2636 758,-68.2637 754.5001,-78.2637 761.5001,-78.2636\"/>\n",
       "</g>\n",
       "<!-- 14 -->\n",
       "<g id=\"node15\" class=\"node\">\n",
       "<title>14</title>\n",
       "<path fill=\"#f3c5a4\" stroke=\"#000000\" d=\"M920,-68C920,-68 844,-68 844,-68 838,-68 832,-62 832,-56 832,-56 832,-12 832,-12 832,-6 838,0 844,0 844,0 920,0 920,0 926,0 932,-6 932,-12 932,-12 932,-56 932,-56 932,-62 926,-68 920,-68\"/>\n",
       "<text text-anchor=\"start\" x=\"848\" y=\"-52.8\" font-family=\"Helvetica,sans-Serif\" font-size=\"14.00\" fill=\"#000000\">entropy = 1.24</text>\n",
       "<text text-anchor=\"start\" x=\"850.5\" y=\"-37.8\" font-family=\"Helvetica,sans-Serif\" font-size=\"14.00\" fill=\"#000000\">samples = 50</text>\n",
       "<text text-anchor=\"start\" x=\"840\" y=\"-22.8\" font-family=\"Helvetica,sans-Serif\" font-size=\"14.00\" fill=\"#000000\">value = [31, 15, 4]</text>\n",
       "<text text-anchor=\"start\" x=\"861\" y=\"-7.8\" font-family=\"Helvetica,sans-Serif\" font-size=\"14.00\" fill=\"#000000\">class = h</text>\n",
       "</g>\n",
       "<!-- 12&#45;&gt;14 -->\n",
       "<g id=\"edge14\" class=\"edge\">\n",
       "<title>12&#45;&gt;14</title>\n",
       "<path fill=\"none\" stroke=\"#000000\" d=\"M804.173,-103.9815C814.7007,-94.5151 825.8808,-84.462 836.3849,-75.0168\"/>\n",
       "<polygon fill=\"#000000\" stroke=\"#000000\" points=\"838.7994,-77.5526 843.8951,-68.2637 834.1189,-72.3475 838.7994,-77.5526\"/>\n",
       "</g>\n",
       "</g>\n",
       "</svg>\n"
      ],
      "text/plain": [
       "<graphviz.files.Source at 0x7fe042c75ee0>"
      ]
     },
     "execution_count": 16,
     "metadata": {},
     "output_type": "execute_result"
    }
   ],
   "source": [
    "# Display graphviz version of the tree\n",
    "graph_tree = tree.export_graphviz(decision_tree, out_file=None, class_names=decision_tree.classes_, feature_names = df_X_dummies.columns,\n",
    "                                 filled=True, rounded=True, special_characters=True)\n",
    "graph = graphviz.Source(graph_tree)\n",
    "graph"
   ]
  },
  {
   "cell_type": "markdown",
   "metadata": {},
   "source": [
    "➡️ Answer containing your descriptive analytics in markdown here ⬅️\n",
    "\n",
    "Units and duplexes (class = u) are classified as having lower prices and landsizes. Houses, cottages, villas, semis, and terraces (class = h) are classified as having the highest landsize, while townhosues (class = t) falls in between class = u and class = h. \n",
    "\n",
    "Class = h places have more rooms than class = u places (which makes sense because that's probably associated with a greater landsize). Class = t has greater building area than class = u. Class = h places are usually built area than class = t places. \n",
    "\n",
    "The council area, scraped number of bedrooms, number of bathrooms, distance to city center, and number of carspots weren't used as splits, meaning they didn't produce the highest gain in purity because they weren't as informative for predicting type of place as year built, landsize, number of bedrooms, price, and building area. \n",
    "\n",
    "In general, the etropy doesn't get much smaller as more levels are being made, meaning the purity of each node isn't getting much smaller through the levels. This leads me to believe more levels need to occur to truly make a difference in classification. "
   ]
  },
  {
   "cell_type": "markdown",
   "metadata": {},
   "source": [
    "## Q7 Calculate the Accuracy and Display Learning Curve\n",
    "Load in the test data from melb_tree_test.csv.\n",
    "\n",
    "Use the scikit-learn library to create many decision trees, each one with a different configuration (aka Hyperparameters).  You will create 28 different trees by:\n",
    "\n",
    "    - Varying the max depth from 2 to 15 with the Gini Index as the impurity measure\n",
    "    - Varying the max depth from 2 to 15 with the Entropy as the impurity measure\n",
    "\n",
    "Implementation tip: you can create an array of numbers from 2 to 15 by using the numpy function [arange](https://numpy.org/doc/stable/reference/generated/numpy.arange.html).\n",
    "\n",
    "For each of the 28 decistion trees, calculate the error rate by using the data in the: \n",
    "  - Training set, and\n",
    "  - Test set.\n",
    "\n",
    "Display the results graphicaly, and offer an analysis of the trend (or if no trend present, offer a hypotheisis of why).  The max depth should be on the x-axis, and the error rate should be on the y-axis (see figure 3.23 in your DM textbook for a similar style of graph that uses leaf nodes instead of depth for the x-axis). Your plot will include 4 series of data\n",
    "   - Test error (entropy)\n",
    "   - Test error (gini index)\n",
    "   - Training error (entropy)\n",
    "   - Training error (gini index)"
   ]
  },
  {
   "cell_type": "code",
   "execution_count": 17,
   "metadata": {},
   "outputs": [],
   "source": [
    "# Load in the test data\n",
    "df_test = pd.read_csv('melb_tree_test.csv')\n",
    "\n",
    "df_test_dummies = pd.concat([df_test,pd.get_dummies(df_test[\"CouncilArea\"])], axis = 1) # add in dummy columns\n",
    "df_test_dummies = df_test_dummies.drop(['CouncilArea', \"Yarra\"], axis=1) # remove old \"CouncilArea\" column\n",
    "\n",
    "df_test_X = df_test_dummies.loc[:, df_test_dummies.columns != 'Type']\n",
    "df_test_y = df_test_dummies[\"Type\"]"
   ]
  },
  {
   "cell_type": "code",
   "execution_count": 18,
   "metadata": {},
   "outputs": [],
   "source": [
    "# Build the trees using the training data\n",
    "z = np.arange(2,16) # array of #s from 2 to 15\n",
    "\n",
    "# arrays for errors\n",
    "train_error_entropy = []\n",
    "test_error_entropy = []\n",
    "train_error_gini = []\n",
    "test_error_gini = []\n",
    "\n",
    "# entropy\n",
    "for i in z:\n",
    "    decision_tree = tree.DecisionTreeClassifier(criterion = \"entropy\", max_depth = i)\n",
    "    decision_tree = decision_tree.fit(df_X_dummies, s_y)\n",
    "    \n",
    "    train_error_entropy.append(1 - decision_tree.score(df_X_dummies, s_y))\n",
    "    test_error_entropy.append(1 - decision_tree.score(df_test_X, df_test_y))\n",
    "\n",
    "# gini\n",
    "for i in z:\n",
    "    decision_tree = tree.DecisionTreeClassifier(criterion = \"gini\", max_depth = i)\n",
    "    decision_tree = decision_tree.fit(df_X_dummies, s_y)\n",
    "    \n",
    "    train_error_gini.append(1 - decision_tree.score(df_X_dummies, s_y))\n",
    "    test_error_gini.append(1 - decision_tree.score(df_test_X, df_test_y))"
   ]
  },
  {
   "cell_type": "code",
   "execution_count": 19,
   "metadata": {},
   "outputs": [
    {
     "data": {
      "image/png": "[encoded data removed]",
      "text/plain": [
       "<Figure size 432x288 with 1 Axes>"
      ]
     },
     "metadata": {
      "needs_background": "light"
     },
     "output_type": "display_data"
    }
   ],
   "source": [
    "# Plot the 4 learning curves\n",
    "plt.plot(z, test_error_entropy) # Test error (entropy)\n",
    "plt.plot(z, test_error_gini) # Test error (gini index)\n",
    "plt.plot(z, train_error_entropy) # Train error (entropy)\n",
    "plt.plot(z, train_error_gini) # Train error (gini index)\n",
    "\n",
    "plt.xlabel(\"Max Depth\")\n",
    "plt.ylabel(\"Error Rate\")\n",
    "plt.title(\"Max Depth of Tree versus Error Rate\")\n",
    "plt.legend((\"Test Error (Entropy)\",\"Test Error (Gini Index)\", \"Train Error (Entropy)\", \"Train Error (Gini Index)\"))\n",
    "plt.show()"
   ]
  },
  {
   "cell_type": "raw",
   "metadata": {},
   "source": [
    "➡️ Answer containing your analysis of the trend (or if no trend present, offer a hypotheisis of why) here ⬅️\n",
    "\n",
    "The two training error rates are notably lower from the two testing error rates. This is true in the beginning of the graph likely because the tree is fit to maximimize the purity of the training data set, so naturally it performs better against the training data set instances. Most importantly, past a maximum depth of 4, the discrepency between training and testing error rates is mostly explained from  model overtfitting. The model doeson't generalize well when it's depth is beyond approximately four, leading to high testing error rates.\n",
    "\n",
    "\n",
    "The testing error rates for Entropy and Gini Index are very similar. Likewise, the training error rates for Entropy and Gini Index are very similar. Entropy and Gini index are both calculating how dissimilar the class labels are for the data instances belonging to a common node. Thus, they are both going to point to the same best splitting criterion within a certain data set. Therefore, their trees are going to be very similar with similar error rates. It's maybe notable that the testing errors are less similar than the training errors. My hypothesis is this is due to the testing data set having greater errors in general, so there's more room for variance in the error. "
   ]
  },
  {
   "cell_type": "code",
   "execution_count": null,
   "metadata": {},
   "outputs": [],
   "source": []
  }
 ],
 "metadata": {
  "kernelspec": {
   "display_name": "Python 3",
   "language": "python",
   "name": "python3"
  },
  "language_info": {
   "codemirror_mode": {
    "name": "ipython",
    "version": 3
   },
   "file_extension": ".py",
   "mimetype": "text/x-python",
   "name": "python",
   "nbconvert_exporter": "python",
   "pygments_lexer": "ipython3",
   "version": "3.8.5"
  }
 },
 "nbformat": 4,
 "nbformat_minor": 4
}
